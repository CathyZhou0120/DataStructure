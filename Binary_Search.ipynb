{
 "cells": [
  {
   "cell_type": "code",
   "execution_count": 9,
   "metadata": {
    "collapsed": true
   },
   "outputs": [],
   "source": [
    "from numpy import empty\n",
    "import sys\n",
    "import math"
   ]
  },
  {
   "cell_type": "markdown",
   "metadata": {
    "collapsed": true
   },
   "source": [
    "Generate Prime number list"
   ]
  },
  {
   "cell_type": "code",
   "execution_count": 10,
   "metadata": {
    "collapsed": true
   },
   "outputs": [],
   "source": [
    "def findPrime(n):\n",
    "    if n <2:\n",
    "        return False\n",
    "    for i in range(0,int(math.sqrt(n)) + 1):\n",
    "        if i >=2 and n%i ==0:\n",
    "            return False\n",
    "    return True\n",
    "\n",
    "def primeList(n):\n",
    "    prime=[]\n",
    "    for i in range(0,n+1):\n",
    "        if findPrime(i) == True:\n",
    "            prime.append(i)\n",
    "    return (prime)\n",
    "\n",
    "searchlist = primeList(100)\n"
   ]
  },
  {
   "cell_type": "markdown",
   "metadata": {},
   "source": [
    "Binary search list to find target number"
   ]
  },
  {
   "cell_type": "code",
   "execution_count": 11,
   "metadata": {
    "collapsed": false
   },
   "outputs": [
    {
     "data": {
      "text/plain": [
       "18"
      ]
     },
     "execution_count": 11,
     "metadata": {},
     "output_type": "execute_result"
    }
   ],
   "source": [
    "def search(lst,target):\n",
    "    minguess = 0\n",
    "    maxguess = int(len(lst)-1)\n",
    "    avg = int((minguess+maxguess)/2)\n",
    "    while minguess<maxguess:\n",
    "        if lst[avg]==target:\n",
    "            return(avg)\n",
    "        elif (lst[avg] < target):\n",
    "            return avg + 1 + search(lst[avg+1:], target)\n",
    "        else:\n",
    "            return search(lst[:avg], target)\n",
    "\n",
    "\n",
    "search(searchlist,67)"
   ]
  }
 ],
 "metadata": {
  "kernelspec": {
   "display_name": "Python [conda root]",
   "language": "python",
   "name": "conda-root-py"
  },
  "language_info": {
   "codemirror_mode": {
    "name": "ipython",
    "version": 3
   },
   "file_extension": ".py",
   "mimetype": "text/x-python",
   "name": "python",
   "nbconvert_exporter": "python",
   "pygments_lexer": "ipython3",
   "version": "3.5.2"
  }
 },
 "nbformat": 4,
 "nbformat_minor": 2
}
