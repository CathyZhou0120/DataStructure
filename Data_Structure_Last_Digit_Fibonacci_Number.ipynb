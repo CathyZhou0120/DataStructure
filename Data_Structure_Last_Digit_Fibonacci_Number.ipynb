{
 "cells": [
  {
   "cell_type": "markdown",
   "metadata": {},
   "source": [
    "# Problem Description\n",
    "Task. Given an integer 𝑛, find the last digit of the 𝑛th Fibonacci number 𝐹𝑛 (that is, 𝐹𝑛 mod 10)."
   ]
  },
  {
   "cell_type": "code",
   "execution_count": 2,
   "metadata": {
    "collapsed": true
   },
   "outputs": [],
   "source": [
    "from numpy import empty\n",
    "import sys"
   ]
  },
  {
   "cell_type": "code",
   "execution_count": 3,
   "metadata": {
    "collapsed": false
   },
   "outputs": [
    {
     "data": {
      "text/plain": [
       "'5'"
      ]
     },
     "execution_count": 3,
     "metadata": {},
     "output_type": "execute_result"
    }
   ],
   "source": [
    "def calc_fib_str(n):\n",
    "    if n <= 1:\n",
    "        return(n)\n",
    "    else:\n",
    "        arr = empty(n+1,dtype=object)\n",
    "        arr[0] = 0\n",
    "        arr[1]=1\n",
    "        for i in range(2,n+1):\n",
    "            arr[i]=arr[i-1]+arr[i-2]\n",
    "        arr_s =str(arr[n])\n",
    "        return(arr_s[len(arr_s)-1])\n",
    "        \n",
    "\n",
    "n = 327305\n",
    "calc_fib_str(n)\n"
   ]
  }
 ],
 "metadata": {
  "kernelspec": {
   "display_name": "Python [conda root]",
   "language": "python",
   "name": "conda-root-py"
  },
  "language_info": {
   "codemirror_mode": {
    "name": "ipython",
    "version": 3
   },
   "file_extension": ".py",
   "mimetype": "text/x-python",
   "name": "python",
   "nbconvert_exporter": "python",
   "pygments_lexer": "ipython3",
   "version": "3.5.2"
  }
 },
 "nbformat": 4,
 "nbformat_minor": 2
}
