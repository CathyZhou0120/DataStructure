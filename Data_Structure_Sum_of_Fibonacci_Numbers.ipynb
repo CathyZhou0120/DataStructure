{
 "cells": [
  {
   "cell_type": "markdown",
   "metadata": {},
   "source": [
    "# Problem Description\n",
    "Task. Given an integer 𝑛, find the last digit of the sum 𝐹0 + 𝐹1 + · · · + 𝐹𝑛.\n"
   ]
  },
  {
   "cell_type": "code",
   "execution_count": 1,
   "metadata": {
    "collapsed": true
   },
   "outputs": [],
   "source": [
    "from numpy import empty\n",
    "import sys"
   ]
  },
  {
   "cell_type": "code",
   "execution_count": 2,
   "metadata": {
    "collapsed": false
   },
   "outputs": [
    {
     "name": "stdout",
     "output_type": "stream",
     "text": [
      "5\n"
     ]
    }
   ],
   "source": [
    "def calc_fib_sum(n):\n",
    "    if n <= 1:\n",
    "        arr_l = []\n",
    "        arr_l.append(n)\n",
    "        return(arr_l)\n",
    "    else:\n",
    "        arr = empty(n+1,dtype=object)\n",
    "        arr[0] = 0\n",
    "        arr[1]=1\n",
    "        arr_sum =  []\n",
    "        for i in range(2,n+1):\n",
    "            arr[i]=arr[i-1]+arr[i-2]\n",
    "            arr_sum.append(arr[i])\n",
    "        arr_sum.append(1)\n",
    "        return(arr_sum)\n",
    "\n",
    "n=100\n",
    "calc_sum=str(sum(calc_fib_sum(n)))\n",
    "print(calc_sum[len(calc_sum)-1])     "
   ]
  }
 ],
 "metadata": {
  "kernelspec": {
   "display_name": "Python [conda root]",
   "language": "python",
   "name": "conda-root-py"
  },
  "language_info": {
   "codemirror_mode": {
    "name": "ipython",
    "version": 3
   },
   "file_extension": ".py",
   "mimetype": "text/x-python",
   "name": "python",
   "nbconvert_exporter": "python",
   "pygments_lexer": "ipython3",
   "version": "3.5.2"
  }
 },
 "nbformat": 4,
 "nbformat_minor": 2
}
